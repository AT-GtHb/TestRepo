{
 "cells": [
  {
   "cell_type": "markdown",
   "id": "f139dae3-6b2b-4564-b2c9-0a290e94fd69",
   "metadata": {},
   "source": [
    "# Data Science Tools and Ecosystem"
   ]
  },
  {
   "cell_type": "markdown",
   "id": "086d31f5-df01-49f2-8635-7cc54396ef42",
   "metadata": {},
   "source": [
    "# In this notebook, Data Science Tools and Ecosystem are summarized."
   ]
  },
  {
   "cell_type": "markdown",
   "id": "45480c83-3555-4f46-bdb6-969a61663868",
   "metadata": {},
   "source": [
    "# Some of the popular languages that Data Scientists use are:\n",
    "1. Python\n",
    "2. R\n",
    "3. Julia\n",
    "4. SQL\n",
    "5. C++"
   ]
  },
  {
   "cell_type": "markdown",
   "id": "df8f2547-44e5-4083-be78-3ad30c764259",
   "metadata": {},
   "source": [
    "# Some of the commonly used libraries used by Data Scientists include:\n",
    "1. NumPy\n",
    "2. Pandas\n",
    "3. Matplotlib\n",
    "4. Seaborn\n",
    "5. Scikit-Learn"
   ]
  },
  {
   "cell_type": "markdown",
   "id": "b9b54e7d-fc1a-4192-b42d-9e9ce644d629",
   "metadata": {},
   "source": [
    "|Data Science Tools|\n",
    "|------------------|\n",
    "|Jupyter Notebook  |\n",
    "|RStudio           |\n",
    "|VS Code           |\n"
   ]
  },
  {
   "cell_type": "markdown",
   "id": "b26c14c0-b343-4c64-a2d2-49ec5aa3516e",
   "metadata": {},
   "source": [
    "### Below are a few examples of evaluating arithmetic expressions in Python."
   ]
  },
  {
   "cell_type": "code",
   "execution_count": 9,
   "id": "646784ae-beab-4c67-b424-91995280318e",
   "metadata": {},
   "outputs": [
    {
     "data": {
      "text/plain": [
       "17"
      ]
     },
     "execution_count": 9,
     "metadata": {},
     "output_type": "execute_result"
    }
   ],
   "source": [
    "# This is a simple arithmetic expression to multiply then add integers\n",
    "(3*4)+5"
   ]
  },
  {
   "cell_type": "code",
   "execution_count": 2,
   "id": "c509eb61-f8cb-4a54-92ca-0dc5ff65d070",
   "metadata": {},
   "outputs": [
    {
     "name": "stdout",
     "output_type": "stream",
     "text": [
      "200 minutes is equal to 3 hours and 20 minutes.\n"
     ]
    }
   ],
   "source": [
    "# This will convert 200 minutes to hours by diving by 60\n",
    "total_minutes = 200\n",
    "\n",
    "# Calculate hours using floor division\n",
    "hours = total_minutes // 60\n",
    "\n",
    "# Calculate remaining minutes using the modulo operator\n",
    "minutes = total_minutes % 60\n",
    "\n",
    "print(f\"{total_minutes} minutes is equal to {hours} hours and {minutes} minutes.\")"
   ]
  },
  {
   "cell_type": "markdown",
   "id": "4d3a35ac-2ba0-4843-83f2-a17663f68412",
   "metadata": {},
   "source": [
    "**Objectives:**\n",
    "- Popular Languages\n",
    "- Commonly Used Libraries\n",
    "- Data Science Tools\n",
    "- Example of Arthimetic Expressions\n",
    "- Coverting Minutes to Hours"
   ]
  },
  {
   "cell_type": "markdown",
   "id": "9eb1c85a-57e2-4266-89be-51e67ff9d88a",
   "metadata": {},
   "source": [
    "## Author\n",
    "Aaron Tesoro"
   ]
  }
 ],
 "metadata": {
  "kernelspec": {
   "display_name": "Python 3 (ipykernel)",
   "language": "python",
   "name": "python3"
  },
  "language_info": {
   "codemirror_mode": {
    "name": "ipython",
    "version": 3
   },
   "file_extension": ".py",
   "mimetype": "text/x-python",
   "name": "python",
   "nbconvert_exporter": "python",
   "pygments_lexer": "ipython3",
   "version": "3.12.8"
  }
 },
 "nbformat": 4,
 "nbformat_minor": 5
}
